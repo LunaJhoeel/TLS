{
  "nbformat": 4,
  "nbformat_minor": 0,
  "metadata": {
    "colab": {
      "provenance": []
    },
    "kernelspec": {
      "name": "python3",
      "display_name": "Python 3"
    },
    "language_info": {
      "name": "python"
    }
  },
  "cells": [
    {
      "cell_type": "code",
      "execution_count": null,
      "metadata": {
        "id": "vDFJy3Ilxpe4"
      },
      "outputs": [],
      "source": [
        "# Librerías\n",
        "import numpy as np\n",
        "import pandas as pd\n",
        "import seaborn as sns\n",
        "from datetime import datetime\n",
        "import matplotlib.pyplot as plt"
      ]
    },
    {
      "cell_type": "markdown",
      "source": [
        "df https://www.datosabiertos.gob.pe/dataset/morbilidad-en-emergencia-hospitalaria"
      ],
      "metadata": {
        "id": "LCD9VHbLDDBK"
      }
    },
    {
      "cell_type": "code",
      "source": [
        "# Leer base de datos previamente cargada a \"sample_data\"\n",
        "df = pd.read_csv('sample_data/TB_EMERGENCIA.csv')"
      ],
      "metadata": {
        "id": "ahH_wHltxyjC"
      },
      "execution_count": null,
      "outputs": []
    },
    {
      "cell_type": "code",
      "source": [
        "df.shape"
      ],
      "metadata": {
        "colab": {
          "base_uri": "https://localhost:8080/"
        },
        "id": "-WmiZRbVc1ao",
        "outputId": "3f4c2c00-4518-4d0f-cb28-0d5dfc0b1714"
      },
      "execution_count": null,
      "outputs": [
        {
          "output_type": "execute_result",
          "data": {
            "text/plain": [
              "(2370157, 8)"
            ]
          },
          "metadata": {},
          "execution_count": 3
        }
      ]
    },
    {
      "cell_type": "code",
      "source": [
        "df.tail()\n",
        "# Limpiar Edad\n",
        "# Sexo Labelencoder\n"
      ],
      "metadata": {
        "colab": {
          "base_uri": "https://localhost:8080/",
          "height": 206
        },
        "id": "JVAoE8agyKGP",
        "outputId": "70147028-ff90-433b-90ff-92965c18e8f1"
      },
      "execution_count": null,
      "outputs": [
        {
          "output_type": "execute_result",
          "data": {
            "text/plain": [
              "         id_persona  Edad tipo_edad Sexo fecha_atencion Diagnostico tipo_dx  \\\n",
              "2370152    23356686    10         M    F     10/09/2021        Q379       D   \n",
              "2370153    23356689     4         A    M     29/03/2022        B965       D   \n",
              "2370154    23356689     4         A    M     28/03/2022        T302       D   \n",
              "2370155    23356689     4         A    M     28/03/2022        T233       D   \n",
              "2370156    26242826     1         A    F     13/10/2021        J219       D   \n",
              "\n",
              "         id_eess  \n",
              "2370152    16380  \n",
              "2370153    16380  \n",
              "2370154     4083  \n",
              "2370155     4071  \n",
              "2370156      646  "
            ],
            "text/html": [
              "\n",
              "  <div id=\"df-59e6efc7-5397-42d0-a026-f60bdb705c21\">\n",
              "    <div class=\"colab-df-container\">\n",
              "      <div>\n",
              "<style scoped>\n",
              "    .dataframe tbody tr th:only-of-type {\n",
              "        vertical-align: middle;\n",
              "    }\n",
              "\n",
              "    .dataframe tbody tr th {\n",
              "        vertical-align: top;\n",
              "    }\n",
              "\n",
              "    .dataframe thead th {\n",
              "        text-align: right;\n",
              "    }\n",
              "</style>\n",
              "<table border=\"1\" class=\"dataframe\">\n",
              "  <thead>\n",
              "    <tr style=\"text-align: right;\">\n",
              "      <th></th>\n",
              "      <th>id_persona</th>\n",
              "      <th>Edad</th>\n",
              "      <th>tipo_edad</th>\n",
              "      <th>Sexo</th>\n",
              "      <th>fecha_atencion</th>\n",
              "      <th>Diagnostico</th>\n",
              "      <th>tipo_dx</th>\n",
              "      <th>id_eess</th>\n",
              "    </tr>\n",
              "  </thead>\n",
              "  <tbody>\n",
              "    <tr>\n",
              "      <th>2370152</th>\n",
              "      <td>23356686</td>\n",
              "      <td>10</td>\n",
              "      <td>M</td>\n",
              "      <td>F</td>\n",
              "      <td>10/09/2021</td>\n",
              "      <td>Q379</td>\n",
              "      <td>D</td>\n",
              "      <td>16380</td>\n",
              "    </tr>\n",
              "    <tr>\n",
              "      <th>2370153</th>\n",
              "      <td>23356689</td>\n",
              "      <td>4</td>\n",
              "      <td>A</td>\n",
              "      <td>M</td>\n",
              "      <td>29/03/2022</td>\n",
              "      <td>B965</td>\n",
              "      <td>D</td>\n",
              "      <td>16380</td>\n",
              "    </tr>\n",
              "    <tr>\n",
              "      <th>2370154</th>\n",
              "      <td>23356689</td>\n",
              "      <td>4</td>\n",
              "      <td>A</td>\n",
              "      <td>M</td>\n",
              "      <td>28/03/2022</td>\n",
              "      <td>T302</td>\n",
              "      <td>D</td>\n",
              "      <td>4083</td>\n",
              "    </tr>\n",
              "    <tr>\n",
              "      <th>2370155</th>\n",
              "      <td>23356689</td>\n",
              "      <td>4</td>\n",
              "      <td>A</td>\n",
              "      <td>M</td>\n",
              "      <td>28/03/2022</td>\n",
              "      <td>T233</td>\n",
              "      <td>D</td>\n",
              "      <td>4071</td>\n",
              "    </tr>\n",
              "    <tr>\n",
              "      <th>2370156</th>\n",
              "      <td>26242826</td>\n",
              "      <td>1</td>\n",
              "      <td>A</td>\n",
              "      <td>F</td>\n",
              "      <td>13/10/2021</td>\n",
              "      <td>J219</td>\n",
              "      <td>D</td>\n",
              "      <td>646</td>\n",
              "    </tr>\n",
              "  </tbody>\n",
              "</table>\n",
              "</div>\n",
              "      <button class=\"colab-df-convert\" onclick=\"convertToInteractive('df-59e6efc7-5397-42d0-a026-f60bdb705c21')\"\n",
              "              title=\"Convert this dataframe to an interactive table.\"\n",
              "              style=\"display:none;\">\n",
              "        \n",
              "  <svg xmlns=\"http://www.w3.org/2000/svg\" height=\"24px\"viewBox=\"0 0 24 24\"\n",
              "       width=\"24px\">\n",
              "    <path d=\"M0 0h24v24H0V0z\" fill=\"none\"/>\n",
              "    <path d=\"M18.56 5.44l.94 2.06.94-2.06 2.06-.94-2.06-.94-.94-2.06-.94 2.06-2.06.94zm-11 1L8.5 8.5l.94-2.06 2.06-.94-2.06-.94L8.5 2.5l-.94 2.06-2.06.94zm10 10l.94 2.06.94-2.06 2.06-.94-2.06-.94-.94-2.06-.94 2.06-2.06.94z\"/><path d=\"M17.41 7.96l-1.37-1.37c-.4-.4-.92-.59-1.43-.59-.52 0-1.04.2-1.43.59L10.3 9.45l-7.72 7.72c-.78.78-.78 2.05 0 2.83L4 21.41c.39.39.9.59 1.41.59.51 0 1.02-.2 1.41-.59l7.78-7.78 2.81-2.81c.8-.78.8-2.07 0-2.86zM5.41 20L4 18.59l7.72-7.72 1.47 1.35L5.41 20z\"/>\n",
              "  </svg>\n",
              "      </button>\n",
              "      \n",
              "  <style>\n",
              "    .colab-df-container {\n",
              "      display:flex;\n",
              "      flex-wrap:wrap;\n",
              "      gap: 12px;\n",
              "    }\n",
              "\n",
              "    .colab-df-convert {\n",
              "      background-color: #E8F0FE;\n",
              "      border: none;\n",
              "      border-radius: 50%;\n",
              "      cursor: pointer;\n",
              "      display: none;\n",
              "      fill: #1967D2;\n",
              "      height: 32px;\n",
              "      padding: 0 0 0 0;\n",
              "      width: 32px;\n",
              "    }\n",
              "\n",
              "    .colab-df-convert:hover {\n",
              "      background-color: #E2EBFA;\n",
              "      box-shadow: 0px 1px 2px rgba(60, 64, 67, 0.3), 0px 1px 3px 1px rgba(60, 64, 67, 0.15);\n",
              "      fill: #174EA6;\n",
              "    }\n",
              "\n",
              "    [theme=dark] .colab-df-convert {\n",
              "      background-color: #3B4455;\n",
              "      fill: #D2E3FC;\n",
              "    }\n",
              "\n",
              "    [theme=dark] .colab-df-convert:hover {\n",
              "      background-color: #434B5C;\n",
              "      box-shadow: 0px 1px 3px 1px rgba(0, 0, 0, 0.15);\n",
              "      filter: drop-shadow(0px 1px 2px rgba(0, 0, 0, 0.3));\n",
              "      fill: #FFFFFF;\n",
              "    }\n",
              "  </style>\n",
              "\n",
              "      <script>\n",
              "        const buttonEl =\n",
              "          document.querySelector('#df-59e6efc7-5397-42d0-a026-f60bdb705c21 button.colab-df-convert');\n",
              "        buttonEl.style.display =\n",
              "          google.colab.kernel.accessAllowed ? 'block' : 'none';\n",
              "\n",
              "        async function convertToInteractive(key) {\n",
              "          const element = document.querySelector('#df-59e6efc7-5397-42d0-a026-f60bdb705c21');\n",
              "          const dataTable =\n",
              "            await google.colab.kernel.invokeFunction('convertToInteractive',\n",
              "                                                     [key], {});\n",
              "          if (!dataTable) return;\n",
              "\n",
              "          const docLinkHtml = 'Like what you see? Visit the ' +\n",
              "            '<a target=\"_blank\" href=https://colab.research.google.com/notebooks/data_table.ipynb>data table notebook</a>'\n",
              "            + ' to learn more about interactive tables.';\n",
              "          element.innerHTML = '';\n",
              "          dataTable['output_type'] = 'display_data';\n",
              "          await google.colab.output.renderOutput(dataTable, element);\n",
              "          const docLink = document.createElement('div');\n",
              "          docLink.innerHTML = docLinkHtml;\n",
              "          element.appendChild(docLink);\n",
              "        }\n",
              "      </script>\n",
              "    </div>\n",
              "  </div>\n",
              "  "
            ]
          },
          "metadata": {},
          "execution_count": 4
        }
      ]
    },
    {
      "cell_type": "code",
      "source": [
        "df.dtypes"
      ],
      "metadata": {
        "colab": {
          "base_uri": "https://localhost:8080/"
        },
        "id": "a5yDRpKJDIUO",
        "outputId": "44a8ac56-d9e2-46a8-91d9-2da4e0cd1031"
      },
      "execution_count": null,
      "outputs": [
        {
          "output_type": "execute_result",
          "data": {
            "text/plain": [
              "id_persona         int64\n",
              "Edad               int64\n",
              "tipo_edad         object\n",
              "Sexo              object\n",
              "fecha_atencion    object\n",
              "Diagnostico       object\n",
              "tipo_dx           object\n",
              "id_eess            int64\n",
              "dtype: object"
            ]
          },
          "metadata": {},
          "execution_count": 5
        }
      ]
    },
    {
      "cell_type": "code",
      "source": [
        "len(df[df['fecha_atencion'].str.endswith('2020')])"
      ],
      "metadata": {
        "colab": {
          "base_uri": "https://localhost:8080/"
        },
        "id": "e_DDwsOEDsFi",
        "outputId": "b990ad83-780d-4f5d-e17b-7668872c9cfb"
      },
      "execution_count": null,
      "outputs": [
        {
          "output_type": "execute_result",
          "data": {
            "text/plain": [
              "0"
            ]
          },
          "metadata": {},
          "execution_count": 6
        }
      ]
    },
    {
      "cell_type": "code",
      "source": [
        "len(df[df['fecha_atencion'].str.endswith('2021')])"
      ],
      "metadata": {
        "colab": {
          "base_uri": "https://localhost:8080/"
        },
        "id": "kSh1mzUrDvUW",
        "outputId": "35cfd066-aeae-4b19-873f-2a7b3e33d61f"
      },
      "execution_count": null,
      "outputs": [
        {
          "output_type": "execute_result",
          "data": {
            "text/plain": [
              "1751386"
            ]
          },
          "metadata": {},
          "execution_count": 7
        }
      ]
    },
    {
      "cell_type": "code",
      "source": [
        "len(df[df['fecha_atencion'].str.endswith('2022')])"
      ],
      "metadata": {
        "colab": {
          "base_uri": "https://localhost:8080/"
        },
        "id": "wH7BP5pPDRn0",
        "outputId": "8bec8e68-124d-402b-9d9d-9596fbc0de9a"
      },
      "execution_count": null,
      "outputs": [
        {
          "output_type": "execute_result",
          "data": {
            "text/plain": [
              "618771"
            ]
          },
          "metadata": {},
          "execution_count": 8
        }
      ]
    },
    {
      "cell_type": "code",
      "source": [
        "df['id_persona'].value_counts()"
      ],
      "metadata": {
        "colab": {
          "base_uri": "https://localhost:8080/"
        },
        "id": "uA6lUvKBkIgg",
        "outputId": "8fc08897-1581-404e-c77a-80afec41dd3d"
      },
      "execution_count": null,
      "outputs": [
        {
          "output_type": "execute_result",
          "data": {
            "text/plain": [
              "26333488    179\n",
              "10306415    110\n",
              "19723931    101\n",
              "9403510      99\n",
              "8873269      83\n",
              "           ... \n",
              "8538743       1\n",
              "14287676      1\n",
              "38641179      1\n",
              "14287674      1\n",
              "26242826      1\n",
              "Name: id_persona, Length: 1707939, dtype: int64"
            ]
          },
          "metadata": {},
          "execution_count": 10
        }
      ]
    },
    {
      "cell_type": "code",
      "source": [
        "df.isna().sum()"
      ],
      "metadata": {
        "colab": {
          "base_uri": "https://localhost:8080/"
        },
        "id": "z0QMi8OQfPEi",
        "outputId": "b2616362-ffdb-4434-cd76-e89393550593"
      },
      "execution_count": null,
      "outputs": [
        {
          "output_type": "execute_result",
          "data": {
            "text/plain": [
              "id_persona           0\n",
              "Edad                 0\n",
              "tipo_edad            0\n",
              "Sexo                 0\n",
              "fecha_atencion       0\n",
              "Diagnostico       1509\n",
              "tipo_dx              0\n",
              "id_eess              0\n",
              "dtype: int64"
            ]
          },
          "metadata": {},
          "execution_count": 11
        }
      ]
    },
    {
      "cell_type": "code",
      "source": [
        "df = df.dropna()"
      ],
      "metadata": {
        "id": "kKe5FJHAfeto"
      },
      "execution_count": null,
      "outputs": []
    },
    {
      "cell_type": "code",
      "source": [
        "df_diabetes = df[df['Diagnostico'].str.startswith(('E125',\t'E126',\t'E127',\t'E128',\t'E129',\t'E130',\t'E131',\t'E132',\t'E133',\t'E134',\t'E135',\t'E136',\t'E137',\t'E138',\t'E139',\t'E140',\t'E141',\t'E142',\t'E143',\t'E144',\t'E145',\t'E146',\t'E147',\t'E148',\t'E149',\t'E232',\t'N083',\t'N251',\t'O240',\t'O241',\t'O242',\t'O243',\t'O244',\t'O249',\t'E100',\t'E101',\t'E102',\t'E103',\t'E104',\t'E105',\t'E106',\t'E107',\t'E108',\t'E109',\t'E110',\t'E111',\t'E112',\t'E113',\t'E114',\t'E115',\t'E116',\t'E117',\t'E118',\t'E119',\t'E120',\t'E121',\t'E122',\t'E123',\t'E124',\t'P700',\t'P702',\t'Z131',\t'Z833'))]"
      ],
      "metadata": {
        "id": "CBnpeoPTeTKj"
      },
      "execution_count": null,
      "outputs": []
    },
    {
      "cell_type": "code",
      "source": [
        "df_diabetes.head()"
      ],
      "metadata": {
        "colab": {
          "base_uri": "https://localhost:8080/",
          "height": 206
        },
        "id": "8vnpRmROkmz_",
        "outputId": "0a47a52e-eed5-4ec2-d3e1-3ef7470312a7"
      },
      "execution_count": null,
      "outputs": [
        {
          "output_type": "execute_result",
          "data": {
            "text/plain": [
              "    id_persona  Edad tipo_edad Sexo fecha_atencion Diagnostico tipo_dx  \\\n",
              "7     36343402    54         A    M     28/05/2021        E119       D   \n",
              "19    38273152    64         A    F     13/12/2021        E119       D   \n",
              "20    38273152    64         A    F     22/03/2022        E119       D   \n",
              "27    36351265    63         A    F      7/04/2021        E119       D   \n",
              "28    36351265    64         A    F     15/03/2022        E119       D   \n",
              "\n",
              "    id_eess  \n",
              "7      6216  \n",
              "19     6216  \n",
              "20     6216  \n",
              "27     6216  \n",
              "28     6216  "
            ],
            "text/html": [
              "\n",
              "  <div id=\"df-37eba0cf-5ccc-4f81-b32d-3b6fd8646ca2\">\n",
              "    <div class=\"colab-df-container\">\n",
              "      <div>\n",
              "<style scoped>\n",
              "    .dataframe tbody tr th:only-of-type {\n",
              "        vertical-align: middle;\n",
              "    }\n",
              "\n",
              "    .dataframe tbody tr th {\n",
              "        vertical-align: top;\n",
              "    }\n",
              "\n",
              "    .dataframe thead th {\n",
              "        text-align: right;\n",
              "    }\n",
              "</style>\n",
              "<table border=\"1\" class=\"dataframe\">\n",
              "  <thead>\n",
              "    <tr style=\"text-align: right;\">\n",
              "      <th></th>\n",
              "      <th>id_persona</th>\n",
              "      <th>Edad</th>\n",
              "      <th>tipo_edad</th>\n",
              "      <th>Sexo</th>\n",
              "      <th>fecha_atencion</th>\n",
              "      <th>Diagnostico</th>\n",
              "      <th>tipo_dx</th>\n",
              "      <th>id_eess</th>\n",
              "    </tr>\n",
              "  </thead>\n",
              "  <tbody>\n",
              "    <tr>\n",
              "      <th>7</th>\n",
              "      <td>36343402</td>\n",
              "      <td>54</td>\n",
              "      <td>A</td>\n",
              "      <td>M</td>\n",
              "      <td>28/05/2021</td>\n",
              "      <td>E119</td>\n",
              "      <td>D</td>\n",
              "      <td>6216</td>\n",
              "    </tr>\n",
              "    <tr>\n",
              "      <th>19</th>\n",
              "      <td>38273152</td>\n",
              "      <td>64</td>\n",
              "      <td>A</td>\n",
              "      <td>F</td>\n",
              "      <td>13/12/2021</td>\n",
              "      <td>E119</td>\n",
              "      <td>D</td>\n",
              "      <td>6216</td>\n",
              "    </tr>\n",
              "    <tr>\n",
              "      <th>20</th>\n",
              "      <td>38273152</td>\n",
              "      <td>64</td>\n",
              "      <td>A</td>\n",
              "      <td>F</td>\n",
              "      <td>22/03/2022</td>\n",
              "      <td>E119</td>\n",
              "      <td>D</td>\n",
              "      <td>6216</td>\n",
              "    </tr>\n",
              "    <tr>\n",
              "      <th>27</th>\n",
              "      <td>36351265</td>\n",
              "      <td>63</td>\n",
              "      <td>A</td>\n",
              "      <td>F</td>\n",
              "      <td>7/04/2021</td>\n",
              "      <td>E119</td>\n",
              "      <td>D</td>\n",
              "      <td>6216</td>\n",
              "    </tr>\n",
              "    <tr>\n",
              "      <th>28</th>\n",
              "      <td>36351265</td>\n",
              "      <td>64</td>\n",
              "      <td>A</td>\n",
              "      <td>F</td>\n",
              "      <td>15/03/2022</td>\n",
              "      <td>E119</td>\n",
              "      <td>D</td>\n",
              "      <td>6216</td>\n",
              "    </tr>\n",
              "  </tbody>\n",
              "</table>\n",
              "</div>\n",
              "      <button class=\"colab-df-convert\" onclick=\"convertToInteractive('df-37eba0cf-5ccc-4f81-b32d-3b6fd8646ca2')\"\n",
              "              title=\"Convert this dataframe to an interactive table.\"\n",
              "              style=\"display:none;\">\n",
              "        \n",
              "  <svg xmlns=\"http://www.w3.org/2000/svg\" height=\"24px\"viewBox=\"0 0 24 24\"\n",
              "       width=\"24px\">\n",
              "    <path d=\"M0 0h24v24H0V0z\" fill=\"none\"/>\n",
              "    <path d=\"M18.56 5.44l.94 2.06.94-2.06 2.06-.94-2.06-.94-.94-2.06-.94 2.06-2.06.94zm-11 1L8.5 8.5l.94-2.06 2.06-.94-2.06-.94L8.5 2.5l-.94 2.06-2.06.94zm10 10l.94 2.06.94-2.06 2.06-.94-2.06-.94-.94-2.06-.94 2.06-2.06.94z\"/><path d=\"M17.41 7.96l-1.37-1.37c-.4-.4-.92-.59-1.43-.59-.52 0-1.04.2-1.43.59L10.3 9.45l-7.72 7.72c-.78.78-.78 2.05 0 2.83L4 21.41c.39.39.9.59 1.41.59.51 0 1.02-.2 1.41-.59l7.78-7.78 2.81-2.81c.8-.78.8-2.07 0-2.86zM5.41 20L4 18.59l7.72-7.72 1.47 1.35L5.41 20z\"/>\n",
              "  </svg>\n",
              "      </button>\n",
              "      \n",
              "  <style>\n",
              "    .colab-df-container {\n",
              "      display:flex;\n",
              "      flex-wrap:wrap;\n",
              "      gap: 12px;\n",
              "    }\n",
              "\n",
              "    .colab-df-convert {\n",
              "      background-color: #E8F0FE;\n",
              "      border: none;\n",
              "      border-radius: 50%;\n",
              "      cursor: pointer;\n",
              "      display: none;\n",
              "      fill: #1967D2;\n",
              "      height: 32px;\n",
              "      padding: 0 0 0 0;\n",
              "      width: 32px;\n",
              "    }\n",
              "\n",
              "    .colab-df-convert:hover {\n",
              "      background-color: #E2EBFA;\n",
              "      box-shadow: 0px 1px 2px rgba(60, 64, 67, 0.3), 0px 1px 3px 1px rgba(60, 64, 67, 0.15);\n",
              "      fill: #174EA6;\n",
              "    }\n",
              "\n",
              "    [theme=dark] .colab-df-convert {\n",
              "      background-color: #3B4455;\n",
              "      fill: #D2E3FC;\n",
              "    }\n",
              "\n",
              "    [theme=dark] .colab-df-convert:hover {\n",
              "      background-color: #434B5C;\n",
              "      box-shadow: 0px 1px 3px 1px rgba(0, 0, 0, 0.15);\n",
              "      filter: drop-shadow(0px 1px 2px rgba(0, 0, 0, 0.3));\n",
              "      fill: #FFFFFF;\n",
              "    }\n",
              "  </style>\n",
              "\n",
              "      <script>\n",
              "        const buttonEl =\n",
              "          document.querySelector('#df-37eba0cf-5ccc-4f81-b32d-3b6fd8646ca2 button.colab-df-convert');\n",
              "        buttonEl.style.display =\n",
              "          google.colab.kernel.accessAllowed ? 'block' : 'none';\n",
              "\n",
              "        async function convertToInteractive(key) {\n",
              "          const element = document.querySelector('#df-37eba0cf-5ccc-4f81-b32d-3b6fd8646ca2');\n",
              "          const dataTable =\n",
              "            await google.colab.kernel.invokeFunction('convertToInteractive',\n",
              "                                                     [key], {});\n",
              "          if (!dataTable) return;\n",
              "\n",
              "          const docLinkHtml = 'Like what you see? Visit the ' +\n",
              "            '<a target=\"_blank\" href=https://colab.research.google.com/notebooks/data_table.ipynb>data table notebook</a>'\n",
              "            + ' to learn more about interactive tables.';\n",
              "          element.innerHTML = '';\n",
              "          dataTable['output_type'] = 'display_data';\n",
              "          await google.colab.output.renderOutput(dataTable, element);\n",
              "          const docLink = document.createElement('div');\n",
              "          docLink.innerHTML = docLinkHtml;\n",
              "          element.appendChild(docLink);\n",
              "        }\n",
              "      </script>\n",
              "    </div>\n",
              "  </div>\n",
              "  "
            ]
          },
          "metadata": {},
          "execution_count": 14
        }
      ]
    },
    {
      "cell_type": "code",
      "source": [
        "df_diabetes['id_persona'].value_counts()"
      ],
      "metadata": {
        "colab": {
          "base_uri": "https://localhost:8080/"
        },
        "id": "HMa_ri2ehM6I",
        "outputId": "92ecda28-9a81-44db-89d8-21b519d6f5a7"
      },
      "execution_count": null,
      "outputs": [
        {
          "output_type": "execute_result",
          "data": {
            "text/plain": [
              "10306415    65\n",
              "8873269     35\n",
              "82924       30\n",
              "1851374     29\n",
              "6708941     27\n",
              "            ..\n",
              "1767959      1\n",
              "12642632     1\n",
              "36328941     1\n",
              "9406846      1\n",
              "30305059     1\n",
              "Name: id_persona, Length: 24721, dtype: int64"
            ]
          },
          "metadata": {},
          "execution_count": 15
        }
      ]
    },
    {
      "cell_type": "code",
      "source": [
        "df_diabetes.sort_values(['id_persona','fecha_atencion'], ascending=True)"
      ],
      "metadata": {
        "colab": {
          "base_uri": "https://localhost:8080/",
          "height": 424
        },
        "id": "eLztbLOfoZcg",
        "outputId": "1c33d574-e341-4817-92a7-a73604196aee"
      },
      "execution_count": null,
      "outputs": [
        {
          "output_type": "execute_result",
          "data": {
            "text/plain": [
              "        id_persona  Edad tipo_edad Sexo fecha_atencion Diagnostico tipo_dx  \\\n",
              "13839         1014    59         A    M     14/11/2021        E118       D   \n",
              "18700         1940    68         A    M      1/02/2022        E119       D   \n",
              "5271          2617    80         A    M     23/03/2022        E149       D   \n",
              "14027         5552    73         A    M     14/09/2021        E148       D   \n",
              "20762         5613    63         A    M     17/04/2021        E118       D   \n",
              "...            ...   ...       ...  ...            ...         ...     ...   \n",
              "30556     40011913    55         A    F     28/04/2022        E146       D   \n",
              "13287     40011969    65         A    M     20/02/2022        E146       P   \n",
              "277153    40012033    54         A    M     16/01/2022        E109       D   \n",
              "4421      40012061    61         A    F     12/03/2022        E146       D   \n",
              "38139     40012111    74         A    F      3/01/2022        E146       D   \n",
              "\n",
              "        id_eess  \n",
              "13839      2727  \n",
              "18700         3  \n",
              "5271       3356  \n",
              "14027      2816  \n",
              "20762      6347  \n",
              "...         ...  \n",
              "30556      5984  \n",
              "13287      5984  \n",
              "277153     7437  \n",
              "4421       5984  \n",
              "38139      5984  \n",
              "\n",
              "[32441 rows x 8 columns]"
            ],
            "text/html": [
              "\n",
              "  <div id=\"df-1f279e55-171a-47de-a451-c6a234d3badd\">\n",
              "    <div class=\"colab-df-container\">\n",
              "      <div>\n",
              "<style scoped>\n",
              "    .dataframe tbody tr th:only-of-type {\n",
              "        vertical-align: middle;\n",
              "    }\n",
              "\n",
              "    .dataframe tbody tr th {\n",
              "        vertical-align: top;\n",
              "    }\n",
              "\n",
              "    .dataframe thead th {\n",
              "        text-align: right;\n",
              "    }\n",
              "</style>\n",
              "<table border=\"1\" class=\"dataframe\">\n",
              "  <thead>\n",
              "    <tr style=\"text-align: right;\">\n",
              "      <th></th>\n",
              "      <th>id_persona</th>\n",
              "      <th>Edad</th>\n",
              "      <th>tipo_edad</th>\n",
              "      <th>Sexo</th>\n",
              "      <th>fecha_atencion</th>\n",
              "      <th>Diagnostico</th>\n",
              "      <th>tipo_dx</th>\n",
              "      <th>id_eess</th>\n",
              "    </tr>\n",
              "  </thead>\n",
              "  <tbody>\n",
              "    <tr>\n",
              "      <th>13839</th>\n",
              "      <td>1014</td>\n",
              "      <td>59</td>\n",
              "      <td>A</td>\n",
              "      <td>M</td>\n",
              "      <td>14/11/2021</td>\n",
              "      <td>E118</td>\n",
              "      <td>D</td>\n",
              "      <td>2727</td>\n",
              "    </tr>\n",
              "    <tr>\n",
              "      <th>18700</th>\n",
              "      <td>1940</td>\n",
              "      <td>68</td>\n",
              "      <td>A</td>\n",
              "      <td>M</td>\n",
              "      <td>1/02/2022</td>\n",
              "      <td>E119</td>\n",
              "      <td>D</td>\n",
              "      <td>3</td>\n",
              "    </tr>\n",
              "    <tr>\n",
              "      <th>5271</th>\n",
              "      <td>2617</td>\n",
              "      <td>80</td>\n",
              "      <td>A</td>\n",
              "      <td>M</td>\n",
              "      <td>23/03/2022</td>\n",
              "      <td>E149</td>\n",
              "      <td>D</td>\n",
              "      <td>3356</td>\n",
              "    </tr>\n",
              "    <tr>\n",
              "      <th>14027</th>\n",
              "      <td>5552</td>\n",
              "      <td>73</td>\n",
              "      <td>A</td>\n",
              "      <td>M</td>\n",
              "      <td>14/09/2021</td>\n",
              "      <td>E148</td>\n",
              "      <td>D</td>\n",
              "      <td>2816</td>\n",
              "    </tr>\n",
              "    <tr>\n",
              "      <th>20762</th>\n",
              "      <td>5613</td>\n",
              "      <td>63</td>\n",
              "      <td>A</td>\n",
              "      <td>M</td>\n",
              "      <td>17/04/2021</td>\n",
              "      <td>E118</td>\n",
              "      <td>D</td>\n",
              "      <td>6347</td>\n",
              "    </tr>\n",
              "    <tr>\n",
              "      <th>...</th>\n",
              "      <td>...</td>\n",
              "      <td>...</td>\n",
              "      <td>...</td>\n",
              "      <td>...</td>\n",
              "      <td>...</td>\n",
              "      <td>...</td>\n",
              "      <td>...</td>\n",
              "      <td>...</td>\n",
              "    </tr>\n",
              "    <tr>\n",
              "      <th>30556</th>\n",
              "      <td>40011913</td>\n",
              "      <td>55</td>\n",
              "      <td>A</td>\n",
              "      <td>F</td>\n",
              "      <td>28/04/2022</td>\n",
              "      <td>E146</td>\n",
              "      <td>D</td>\n",
              "      <td>5984</td>\n",
              "    </tr>\n",
              "    <tr>\n",
              "      <th>13287</th>\n",
              "      <td>40011969</td>\n",
              "      <td>65</td>\n",
              "      <td>A</td>\n",
              "      <td>M</td>\n",
              "      <td>20/02/2022</td>\n",
              "      <td>E146</td>\n",
              "      <td>P</td>\n",
              "      <td>5984</td>\n",
              "    </tr>\n",
              "    <tr>\n",
              "      <th>277153</th>\n",
              "      <td>40012033</td>\n",
              "      <td>54</td>\n",
              "      <td>A</td>\n",
              "      <td>M</td>\n",
              "      <td>16/01/2022</td>\n",
              "      <td>E109</td>\n",
              "      <td>D</td>\n",
              "      <td>7437</td>\n",
              "    </tr>\n",
              "    <tr>\n",
              "      <th>4421</th>\n",
              "      <td>40012061</td>\n",
              "      <td>61</td>\n",
              "      <td>A</td>\n",
              "      <td>F</td>\n",
              "      <td>12/03/2022</td>\n",
              "      <td>E146</td>\n",
              "      <td>D</td>\n",
              "      <td>5984</td>\n",
              "    </tr>\n",
              "    <tr>\n",
              "      <th>38139</th>\n",
              "      <td>40012111</td>\n",
              "      <td>74</td>\n",
              "      <td>A</td>\n",
              "      <td>F</td>\n",
              "      <td>3/01/2022</td>\n",
              "      <td>E146</td>\n",
              "      <td>D</td>\n",
              "      <td>5984</td>\n",
              "    </tr>\n",
              "  </tbody>\n",
              "</table>\n",
              "<p>32441 rows × 8 columns</p>\n",
              "</div>\n",
              "      <button class=\"colab-df-convert\" onclick=\"convertToInteractive('df-1f279e55-171a-47de-a451-c6a234d3badd')\"\n",
              "              title=\"Convert this dataframe to an interactive table.\"\n",
              "              style=\"display:none;\">\n",
              "        \n",
              "  <svg xmlns=\"http://www.w3.org/2000/svg\" height=\"24px\"viewBox=\"0 0 24 24\"\n",
              "       width=\"24px\">\n",
              "    <path d=\"M0 0h24v24H0V0z\" fill=\"none\"/>\n",
              "    <path d=\"M18.56 5.44l.94 2.06.94-2.06 2.06-.94-2.06-.94-.94-2.06-.94 2.06-2.06.94zm-11 1L8.5 8.5l.94-2.06 2.06-.94-2.06-.94L8.5 2.5l-.94 2.06-2.06.94zm10 10l.94 2.06.94-2.06 2.06-.94-2.06-.94-.94-2.06-.94 2.06-2.06.94z\"/><path d=\"M17.41 7.96l-1.37-1.37c-.4-.4-.92-.59-1.43-.59-.52 0-1.04.2-1.43.59L10.3 9.45l-7.72 7.72c-.78.78-.78 2.05 0 2.83L4 21.41c.39.39.9.59 1.41.59.51 0 1.02-.2 1.41-.59l7.78-7.78 2.81-2.81c.8-.78.8-2.07 0-2.86zM5.41 20L4 18.59l7.72-7.72 1.47 1.35L5.41 20z\"/>\n",
              "  </svg>\n",
              "      </button>\n",
              "      \n",
              "  <style>\n",
              "    .colab-df-container {\n",
              "      display:flex;\n",
              "      flex-wrap:wrap;\n",
              "      gap: 12px;\n",
              "    }\n",
              "\n",
              "    .colab-df-convert {\n",
              "      background-color: #E8F0FE;\n",
              "      border: none;\n",
              "      border-radius: 50%;\n",
              "      cursor: pointer;\n",
              "      display: none;\n",
              "      fill: #1967D2;\n",
              "      height: 32px;\n",
              "      padding: 0 0 0 0;\n",
              "      width: 32px;\n",
              "    }\n",
              "\n",
              "    .colab-df-convert:hover {\n",
              "      background-color: #E2EBFA;\n",
              "      box-shadow: 0px 1px 2px rgba(60, 64, 67, 0.3), 0px 1px 3px 1px rgba(60, 64, 67, 0.15);\n",
              "      fill: #174EA6;\n",
              "    }\n",
              "\n",
              "    [theme=dark] .colab-df-convert {\n",
              "      background-color: #3B4455;\n",
              "      fill: #D2E3FC;\n",
              "    }\n",
              "\n",
              "    [theme=dark] .colab-df-convert:hover {\n",
              "      background-color: #434B5C;\n",
              "      box-shadow: 0px 1px 3px 1px rgba(0, 0, 0, 0.15);\n",
              "      filter: drop-shadow(0px 1px 2px rgba(0, 0, 0, 0.3));\n",
              "      fill: #FFFFFF;\n",
              "    }\n",
              "  </style>\n",
              "\n",
              "      <script>\n",
              "        const buttonEl =\n",
              "          document.querySelector('#df-1f279e55-171a-47de-a451-c6a234d3badd button.colab-df-convert');\n",
              "        buttonEl.style.display =\n",
              "          google.colab.kernel.accessAllowed ? 'block' : 'none';\n",
              "\n",
              "        async function convertToInteractive(key) {\n",
              "          const element = document.querySelector('#df-1f279e55-171a-47de-a451-c6a234d3badd');\n",
              "          const dataTable =\n",
              "            await google.colab.kernel.invokeFunction('convertToInteractive',\n",
              "                                                     [key], {});\n",
              "          if (!dataTable) return;\n",
              "\n",
              "          const docLinkHtml = 'Like what you see? Visit the ' +\n",
              "            '<a target=\"_blank\" href=https://colab.research.google.com/notebooks/data_table.ipynb>data table notebook</a>'\n",
              "            + ' to learn more about interactive tables.';\n",
              "          element.innerHTML = '';\n",
              "          dataTable['output_type'] = 'display_data';\n",
              "          await google.colab.output.renderOutput(dataTable, element);\n",
              "          const docLink = document.createElement('div');\n",
              "          docLink.innerHTML = docLinkHtml;\n",
              "          element.appendChild(docLink);\n",
              "        }\n",
              "      </script>\n",
              "    </div>\n",
              "  </div>\n",
              "  "
            ]
          },
          "metadata": {},
          "execution_count": 16
        }
      ]
    },
    {
      "cell_type": "code",
      "source": [
        "df_diabetes.dtypes"
      ],
      "metadata": {
        "colab": {
          "base_uri": "https://localhost:8080/"
        },
        "id": "EJx6EjW7zQT6",
        "outputId": "227778e4-e3b1-4a5f-d8db-6ba2e9228e30"
      },
      "execution_count": null,
      "outputs": [
        {
          "output_type": "execute_result",
          "data": {
            "text/plain": [
              "id_persona         int64\n",
              "Edad               int64\n",
              "tipo_edad         object\n",
              "Sexo              object\n",
              "fecha_atencion    object\n",
              "Diagnostico       object\n",
              "tipo_dx           object\n",
              "id_eess            int64\n",
              "dtype: object"
            ]
          },
          "metadata": {},
          "execution_count": 17
        }
      ]
    },
    {
      "cell_type": "code",
      "source": [
        "df_diabetes['fecha_atencion'] = pd.to_datetime(df_diabetes['fecha_atencion'], format='%d/%m/%Y')"
      ],
      "metadata": {
        "colab": {
          "base_uri": "https://localhost:8080/"
        },
        "id": "LNe52PRea2Gr",
        "outputId": "704c04af-7270-4d80-f5a0-d0e74ab0854b"
      },
      "execution_count": null,
      "outputs": [
        {
          "output_type": "stream",
          "name": "stderr",
          "text": [
            "/usr/local/lib/python3.7/dist-packages/ipykernel_launcher.py:1: SettingWithCopyWarning: \n",
            "A value is trying to be set on a copy of a slice from a DataFrame.\n",
            "Try using .loc[row_indexer,col_indexer] = value instead\n",
            "\n",
            "See the caveats in the documentation: https://pandas.pydata.org/pandas-docs/stable/user_guide/indexing.html#returning-a-view-versus-a-copy\n",
            "  \"\"\"Entry point for launching an IPython kernel.\n"
          ]
        }
      ]
    },
    {
      "cell_type": "code",
      "source": [
        "df_de_prueba = df_diabetes[df_diabetes['id_persona'] == 36351265].sort_values('fecha_atencion', ascending=True)\n",
        "df_de_prueba.head()"
      ],
      "metadata": {
        "colab": {
          "base_uri": "https://localhost:8080/",
          "height": 112
        },
        "id": "bFcTVoi4pgXO",
        "outputId": "af8b0a30-37b0-484e-fb24-d37851ffedde"
      },
      "execution_count": null,
      "outputs": [
        {
          "output_type": "execute_result",
          "data": {
            "text/plain": [
              "    id_persona  Edad tipo_edad Sexo fecha_atencion Diagnostico tipo_dx  \\\n",
              "27    36351265    63         A    F     2021-04-07        E119       D   \n",
              "28    36351265    64         A    F     2022-03-15        E119       D   \n",
              "\n",
              "    id_eess  \n",
              "27     6216  \n",
              "28     6216  "
            ],
            "text/html": [
              "\n",
              "  <div id=\"df-5d579e94-5e6d-4a0a-b6b5-f00a904c48fb\">\n",
              "    <div class=\"colab-df-container\">\n",
              "      <div>\n",
              "<style scoped>\n",
              "    .dataframe tbody tr th:only-of-type {\n",
              "        vertical-align: middle;\n",
              "    }\n",
              "\n",
              "    .dataframe tbody tr th {\n",
              "        vertical-align: top;\n",
              "    }\n",
              "\n",
              "    .dataframe thead th {\n",
              "        text-align: right;\n",
              "    }\n",
              "</style>\n",
              "<table border=\"1\" class=\"dataframe\">\n",
              "  <thead>\n",
              "    <tr style=\"text-align: right;\">\n",
              "      <th></th>\n",
              "      <th>id_persona</th>\n",
              "      <th>Edad</th>\n",
              "      <th>tipo_edad</th>\n",
              "      <th>Sexo</th>\n",
              "      <th>fecha_atencion</th>\n",
              "      <th>Diagnostico</th>\n",
              "      <th>tipo_dx</th>\n",
              "      <th>id_eess</th>\n",
              "    </tr>\n",
              "  </thead>\n",
              "  <tbody>\n",
              "    <tr>\n",
              "      <th>27</th>\n",
              "      <td>36351265</td>\n",
              "      <td>63</td>\n",
              "      <td>A</td>\n",
              "      <td>F</td>\n",
              "      <td>2021-04-07</td>\n",
              "      <td>E119</td>\n",
              "      <td>D</td>\n",
              "      <td>6216</td>\n",
              "    </tr>\n",
              "    <tr>\n",
              "      <th>28</th>\n",
              "      <td>36351265</td>\n",
              "      <td>64</td>\n",
              "      <td>A</td>\n",
              "      <td>F</td>\n",
              "      <td>2022-03-15</td>\n",
              "      <td>E119</td>\n",
              "      <td>D</td>\n",
              "      <td>6216</td>\n",
              "    </tr>\n",
              "  </tbody>\n",
              "</table>\n",
              "</div>\n",
              "      <button class=\"colab-df-convert\" onclick=\"convertToInteractive('df-5d579e94-5e6d-4a0a-b6b5-f00a904c48fb')\"\n",
              "              title=\"Convert this dataframe to an interactive table.\"\n",
              "              style=\"display:none;\">\n",
              "        \n",
              "  <svg xmlns=\"http://www.w3.org/2000/svg\" height=\"24px\"viewBox=\"0 0 24 24\"\n",
              "       width=\"24px\">\n",
              "    <path d=\"M0 0h24v24H0V0z\" fill=\"none\"/>\n",
              "    <path d=\"M18.56 5.44l.94 2.06.94-2.06 2.06-.94-2.06-.94-.94-2.06-.94 2.06-2.06.94zm-11 1L8.5 8.5l.94-2.06 2.06-.94-2.06-.94L8.5 2.5l-.94 2.06-2.06.94zm10 10l.94 2.06.94-2.06 2.06-.94-2.06-.94-.94-2.06-.94 2.06-2.06.94z\"/><path d=\"M17.41 7.96l-1.37-1.37c-.4-.4-.92-.59-1.43-.59-.52 0-1.04.2-1.43.59L10.3 9.45l-7.72 7.72c-.78.78-.78 2.05 0 2.83L4 21.41c.39.39.9.59 1.41.59.51 0 1.02-.2 1.41-.59l7.78-7.78 2.81-2.81c.8-.78.8-2.07 0-2.86zM5.41 20L4 18.59l7.72-7.72 1.47 1.35L5.41 20z\"/>\n",
              "  </svg>\n",
              "      </button>\n",
              "      \n",
              "  <style>\n",
              "    .colab-df-container {\n",
              "      display:flex;\n",
              "      flex-wrap:wrap;\n",
              "      gap: 12px;\n",
              "    }\n",
              "\n",
              "    .colab-df-convert {\n",
              "      background-color: #E8F0FE;\n",
              "      border: none;\n",
              "      border-radius: 50%;\n",
              "      cursor: pointer;\n",
              "      display: none;\n",
              "      fill: #1967D2;\n",
              "      height: 32px;\n",
              "      padding: 0 0 0 0;\n",
              "      width: 32px;\n",
              "    }\n",
              "\n",
              "    .colab-df-convert:hover {\n",
              "      background-color: #E2EBFA;\n",
              "      box-shadow: 0px 1px 2px rgba(60, 64, 67, 0.3), 0px 1px 3px 1px rgba(60, 64, 67, 0.15);\n",
              "      fill: #174EA6;\n",
              "    }\n",
              "\n",
              "    [theme=dark] .colab-df-convert {\n",
              "      background-color: #3B4455;\n",
              "      fill: #D2E3FC;\n",
              "    }\n",
              "\n",
              "    [theme=dark] .colab-df-convert:hover {\n",
              "      background-color: #434B5C;\n",
              "      box-shadow: 0px 1px 3px 1px rgba(0, 0, 0, 0.15);\n",
              "      filter: drop-shadow(0px 1px 2px rgba(0, 0, 0, 0.3));\n",
              "      fill: #FFFFFF;\n",
              "    }\n",
              "  </style>\n",
              "\n",
              "      <script>\n",
              "        const buttonEl =\n",
              "          document.querySelector('#df-5d579e94-5e6d-4a0a-b6b5-f00a904c48fb button.colab-df-convert');\n",
              "        buttonEl.style.display =\n",
              "          google.colab.kernel.accessAllowed ? 'block' : 'none';\n",
              "\n",
              "        async function convertToInteractive(key) {\n",
              "          const element = document.querySelector('#df-5d579e94-5e6d-4a0a-b6b5-f00a904c48fb');\n",
              "          const dataTable =\n",
              "            await google.colab.kernel.invokeFunction('convertToInteractive',\n",
              "                                                     [key], {});\n",
              "          if (!dataTable) return;\n",
              "\n",
              "          const docLinkHtml = 'Like what you see? Visit the ' +\n",
              "            '<a target=\"_blank\" href=https://colab.research.google.com/notebooks/data_table.ipynb>data table notebook</a>'\n",
              "            + ' to learn more about interactive tables.';\n",
              "          element.innerHTML = '';\n",
              "          dataTable['output_type'] = 'display_data';\n",
              "          await google.colab.output.renderOutput(dataTable, element);\n",
              "          const docLink = document.createElement('div');\n",
              "          docLink.innerHTML = docLinkHtml;\n",
              "          element.appendChild(docLink);\n",
              "        }\n",
              "      </script>\n",
              "    </div>\n",
              "  </div>\n",
              "  "
            ]
          },
          "metadata": {},
          "execution_count": 42
        }
      ]
    },
    {
      "cell_type": "code",
      "source": [
        "aList = (df_de_prueba.groupby(['id_persona'])['fecha_atencion'].shift(-1) - df_de_prueba['fecha_atencion']).shift().dropna().reset_index(drop=True).dt.days.tolist()\n",
        "aList"
      ],
      "metadata": {
        "colab": {
          "base_uri": "https://localhost:8080/"
        },
        "id": "hEfwTttDydo2",
        "outputId": "d60a1fc0-d94a-4e14-c384-56153ec59914"
      },
      "execution_count": null,
      "outputs": [
        {
          "output_type": "execute_result",
          "data": {
            "text/plain": [
              "[342]"
            ]
          },
          "metadata": {},
          "execution_count": 43
        }
      ]
    },
    {
      "cell_type": "code",
      "source": [
        "if all(i >= 30 for i in aList):\n",
        "  print('no readmitido')\n",
        "else:\n",
        "  print('readmitido')"
      ],
      "metadata": {
        "colab": {
          "base_uri": "https://localhost:8080/"
        },
        "id": "tr5hF2kk2_XA",
        "outputId": "ea340232-4e90-4e68-a1ae-e40aca65eb67"
      },
      "execution_count": null,
      "outputs": [
        {
          "output_type": "stream",
          "name": "stdout",
          "text": [
            "no readmitido\n"
          ]
        }
      ]
    },
    {
      "cell_type": "code",
      "source": [
        "df['id_persona'].unique()"
      ],
      "metadata": {
        "colab": {
          "base_uri": "https://localhost:8080/"
        },
        "id": "AyWYnube5YNN",
        "outputId": "c277738e-1feb-48ce-8875-52e6bb5aaf84"
      },
      "execution_count": null,
      "outputs": [
        {
          "output_type": "execute_result",
          "data": {
            "text/plain": [
              "array([38669856, 39965894, 38129350, ..., 23356686, 23356689, 26242826])"
            ]
          },
          "metadata": {},
          "execution_count": 38
        }
      ]
    },
    {
      "cell_type": "code",
      "source": [
        "empty_dataframe = pd.DataFrame()\n",
        "id_persona = []\n",
        "\n",
        "for value in df['id_persona']:\n",
        "    if df['id_persona'].unique():\n",
        "      empty_dataframe.append(df['id_persona'].values)\n",
        "    else:\n",
        "      empty_dataframe.append(0)\n",
        "\n",
        "empty_dataframe['target'] = id_persona"
      ],
      "metadata": {
        "colab": {
          "base_uri": "https://localhost:8080/",
          "height": 235
        },
        "id": "AVIVglgU3e9L",
        "outputId": "0bacc475-3b6a-455f-ba47-1390f88c96f2"
      },
      "execution_count": null,
      "outputs": [
        {
          "output_type": "error",
          "ename": "ValueError",
          "evalue": "ignored",
          "traceback": [
            "\u001b[0;31m---------------------------------------------------------------------------\u001b[0m",
            "\u001b[0;31mValueError\u001b[0m                                Traceback (most recent call last)",
            "\u001b[0;32m<ipython-input-35-63f9f1c925e0>\u001b[0m in \u001b[0;36m<module>\u001b[0;34m()\u001b[0m\n\u001b[1;32m      3\u001b[0m \u001b[0;34m\u001b[0m\u001b[0m\n\u001b[1;32m      4\u001b[0m \u001b[0;32mfor\u001b[0m \u001b[0mvalue\u001b[0m \u001b[0;32min\u001b[0m \u001b[0mdf\u001b[0m\u001b[0;34m[\u001b[0m\u001b[0;34m'id_persona'\u001b[0m\u001b[0;34m]\u001b[0m\u001b[0;34m:\u001b[0m\u001b[0;34m\u001b[0m\u001b[0;34m\u001b[0m\u001b[0m\n\u001b[0;32m----> 5\u001b[0;31m     \u001b[0;32mif\u001b[0m \u001b[0mdf\u001b[0m\u001b[0;34m[\u001b[0m\u001b[0;34m'id_persona'\u001b[0m\u001b[0;34m]\u001b[0m\u001b[0;34m.\u001b[0m\u001b[0munique\u001b[0m\u001b[0;34m(\u001b[0m\u001b[0;34m)\u001b[0m\u001b[0;34m:\u001b[0m\u001b[0;34m\u001b[0m\u001b[0;34m\u001b[0m\u001b[0m\n\u001b[0m\u001b[1;32m      6\u001b[0m       \u001b[0mempty_dataframe\u001b[0m\u001b[0;34m.\u001b[0m\u001b[0mappend\u001b[0m\u001b[0;34m(\u001b[0m\u001b[0mdf\u001b[0m\u001b[0;34m[\u001b[0m\u001b[0;34m'id_persona'\u001b[0m\u001b[0;34m]\u001b[0m\u001b[0;34m.\u001b[0m\u001b[0mvalues\u001b[0m\u001b[0;34m)\u001b[0m\u001b[0;34m\u001b[0m\u001b[0;34m\u001b[0m\u001b[0m\n\u001b[1;32m      7\u001b[0m     \u001b[0;32melse\u001b[0m\u001b[0;34m:\u001b[0m\u001b[0;34m\u001b[0m\u001b[0;34m\u001b[0m\u001b[0m\n",
            "\u001b[0;31mValueError\u001b[0m: The truth value of an array with more than one element is ambiguous. Use a.any() or a.all()"
          ]
        }
      ]
    },
    {
      "cell_type": "code",
      "source": [
        "empty_dataframe"
      ],
      "metadata": {
        "id": "qpFBQRc5498N"
      },
      "execution_count": null,
      "outputs": []
    },
    {
      "cell_type": "code",
      "source": [
        "# Fill target column\n",
        "target = []\n",
        "\n",
        "for value in df['id_persona']:\n",
        "    if df['id_persona'].unique():\n",
        "      target.append(0)\n",
        "    else:\n",
        "      j = (df_de_prueba.groupby(['id_persona'])['fecha_atencion'].shift(-1) - df_de_prueba['fecha_atencion']).shift().reset_index(drop=True).dt.days # si por lo menos, dias >= 30\n",
        "      for i in j:\n",
        "        if i >= 30:\n",
        "          target.append(0)\n",
        "        else:\n",
        "          target.append(1)\n",
        "\n",
        "df['target'] = target"
      ],
      "metadata": {
        "id": "h5TTiY7xri9O"
      },
      "execution_count": null,
      "outputs": []
    },
    {
      "cell_type": "code",
      "source": [
        "df_diabetes['id_persona'].value_counts()"
      ],
      "metadata": {
        "id": "8YEJQaNbhduq"
      },
      "execution_count": null,
      "outputs": []
    },
    {
      "cell_type": "code",
      "source": [
        "df[df['id_persona'] == 8873269]"
      ],
      "metadata": {
        "id": "-i5iZ7oqki-y"
      },
      "execution_count": null,
      "outputs": []
    },
    {
      "cell_type": "code",
      "source": [
        "df[df['id_persona'] == 8873269]['Diagnostico'].value_counts()"
      ],
      "metadata": {
        "id": "FJ8qMjXAlbaD"
      },
      "execution_count": null,
      "outputs": []
    },
    {
      "cell_type": "code",
      "source": [
        "df.dtypes"
      ],
      "metadata": {
        "id": "-A4Fg3E257Ny"
      },
      "execution_count": null,
      "outputs": []
    },
    {
      "cell_type": "code",
      "source": [
        "df.tipo_edad.value_counts()"
      ],
      "metadata": {
        "id": "ejjViUQiB8TB"
      },
      "execution_count": null,
      "outputs": []
    },
    {
      "cell_type": "code",
      "source": [
        "df[\"Edad\"] = np.where(df['tipo_edad'] != 'A', 0, df[\"Edad\"])\n",
        "df = df.drop('tipo_edad', axis= 1)\n",
        "df.head()"
      ],
      "metadata": {
        "id": "qfnJCfik3taa"
      },
      "execution_count": null,
      "outputs": []
    },
    {
      "cell_type": "code",
      "source": [
        "len(df[df['Diagnostico'] == 'U071']) # 9, virus identificado.o Caso confirmado con resultado positivo de la prueba"
      ],
      "metadata": {
        "id": "HGR8ssCi-SGc"
      },
      "execution_count": null,
      "outputs": []
    },
    {
      "cell_type": "code",
      "source": [
        "len(df[df['Diagnostico'] == 'U072']) # virus no identificado o Diagnosticado clínicamente y epidemiológicamente con COVID-19"
      ],
      "metadata": {
        "id": "--9TWSQUCdJX"
      },
      "execution_count": null,
      "outputs": []
    },
    {
      "cell_type": "code",
      "source": [
        "df.Diagnostico.unique()"
      ],
      "metadata": {
        "id": "RADAE9yLyib7"
      },
      "execution_count": null,
      "outputs": []
    },
    {
      "cell_type": "code",
      "source": [
        "df.Diagnostico.value_counts()"
      ],
      "metadata": {
        "id": "aA12v91Qy1gA"
      },
      "execution_count": null,
      "outputs": []
    },
    {
      "cell_type": "code",
      "source": [
        "df.tipo_dx.value_counts()"
      ],
      "metadata": {
        "id": "7KVl6NGyd83A"
      },
      "execution_count": null,
      "outputs": []
    },
    {
      "cell_type": "code",
      "source": [
        "df['id_eess'].value_counts()"
      ],
      "metadata": {
        "id": "SeKVt4Kvh1pQ"
      },
      "execution_count": null,
      "outputs": []
    },
    {
      "cell_type": "code",
      "source": [
        "df.head()"
      ],
      "metadata": {
        "id": "GLMstvzna7xF"
      },
      "execution_count": null,
      "outputs": []
    },
    {
      "cell_type": "code",
      "source": [
        "df.dtypes"
      ],
      "metadata": {
        "id": "elu2vyPabVlk"
      },
      "execution_count": null,
      "outputs": []
    },
    {
      "cell_type": "code",
      "source": [
        "df.fecha_atencion.value_counts()"
      ],
      "metadata": {
        "id": "rBlH6Myebdge"
      },
      "execution_count": null,
      "outputs": []
    },
    {
      "cell_type": "code",
      "source": [
        "# Features independientes\n",
        "X = df.drop('Diagnostico', axis= 1)\n",
        "# Label dependiente\n",
        "y = df['Diagnostico'] #Si hay riesgo de morbilidad o no (1, 0)"
      ],
      "metadata": {
        "id": "O5J0aiH3y8RJ"
      },
      "execution_count": null,
      "outputs": []
    },
    {
      "cell_type": "markdown",
      "source": [
        "DEFINIR EL MODELO: clustering descriptivo machine"
      ],
      "metadata": {
        "id": "-M-Ys0LA_8nA"
      }
    },
    {
      "cell_type": "code",
      "source": [
        "from sklearn.model_selection import train_test_split\n",
        "# To split the dataset\n",
        "X_train, X_test, y_train, y_test = train_test_split(X, y, test_size = 0.2, random_state = 42)\n",
        "X_train.shape"
      ],
      "metadata": {
        "id": "R50SWCsgzTSi"
      },
      "execution_count": null,
      "outputs": []
    },
    {
      "cell_type": "code",
      "source": [
        "X_test.shape"
      ],
      "metadata": {
        "id": "Gga5XalK17i-"
      },
      "execution_count": null,
      "outputs": []
    },
    {
      "cell_type": "code",
      "source": [
        "from sklearn.cluster import KMeans\n",
        "#est =  SGDRegressor()"
      ],
      "metadata": {
        "id": "v_aAcxm_2_1v"
      },
      "execution_count": null,
      "outputs": []
    }
  ]
}